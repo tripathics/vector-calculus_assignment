{
 "metadata": {
  "language_info": {
   "codemirror_mode": {
    "name": "ipython",
    "version": 3
   },
   "file_extension": ".py",
   "mimetype": "text/x-python",
   "name": "python",
   "nbconvert_exporter": "python",
   "pygments_lexer": "ipython3",
   "version": "3.9.5"
  },
  "orig_nbformat": 4,
  "kernelspec": {
   "name": "python395jvsc74a57bd0d5079000de75f116e87a902a93b652d138e47a117901ddd21733cca5ae6d22b9",
   "display_name": "Python 3.9.5 64-bit ('py39': venv)",
   "language": "python"
  },
  "interpreter": {
   "hash": "d5079000de75f116e87a902a93b652d138e47a117901ddd21733cca5ae6d22b9"
  }
 },
 "nbformat": 4,
 "nbformat_minor": 2,
 "cells": [
  {
   "cell_type": "markdown",
   "source": [
    "# Engineering Mathematics-II (MA102)\n",
    "### Assignment on Vector Calculus and Laplace Transformation\n",
    "---\n",
    "**Submitted to:**\n",
    " \n",
    "Dr. A Vanav Kumar \n",
    "<p>&nbsp;</p>\n",
    "\n",
    "**Submitted by:**\n",
    "\n",
    "**Name:** Chandrashekhar Tripathi\n",
    "\n",
    "**Roll no.:** ECE/20/28\n",
    "\n",
    "**Branch:** Electronics and Communications Engineering\n",
    "\n",
    "<html>\n",
    "    <img src=\"\n",
    "</html>\n"
   ],
   "metadata": {}
  },
  {
   "cell_type": "markdown",
   "source": [
    "## Part I: Vector Calculus\n",
    "---"
   ],
   "metadata": {}
  },
  {
   "cell_type": "markdown",
   "source": [
    "**Question 1** \n",
    "---\n",
    "Evaluate \n",
    "$$\\int_C y^2dx + xdy$$\n",
    "where \n",
    "\n",
    "**(a)** $\\mathit{C=C_1}$ is the line segment from (-5,-3) to (0,2) and \n",
    "\n",
    "**(b)** $\\mathit{C=C_2}$ is the arc of the parabola $x = 4 - y^2$ from (-5,-3) to (0,2)."
   ],
   "metadata": {}
  },
  {
   "cell_type": "markdown",
   "source": [
    "**Solution**\n",
    "---\n",
    "A parametric representation for the line segment (curve $C_1$) is\n",
    "\n",
    "$x = 5t - 5 \\quad y = 5t - 3 \\qquad 0 \\leqslant t \\leqslant 1$\n",
    "\n",
    "Since the parabola is given as a function of $y$, let's take $y$ as the parameter and write $C_2$ as\n",
    "\n",
    "$x = 4 - y^2 \\quad y = y \\qquad -3 \\leqslant y \\leqslant 2$\n",
    "\n",
    "See figure below:"
   ],
   "metadata": {}
  },
  {
   "cell_type": "code",
   "execution_count": null,
   "source": [
    "import numpy\n",
    "import matplotlib.pyplot as plt\n",
    "\n",
    "# setting up the graph\n",
    "plt.figure(figsize=(5,5))\n",
    "plt.grid()\n",
    "plt.xlabel('x')\n",
    "plt.ylabel('y')\n",
    "\n",
    "plt.xlim(-6,6)\n",
    "plt.ylim(-6,6)\n",
    "\n",
    "# curve C_1\n",
    "t = numpy.linspace(0,1,2)      # parameter\n",
    "x = 5*t - 5\n",
    "y = 5*t - 3\n",
    "plt.plot(x,y, marker=\"o\")\n",
    "\n",
    "# curve C_2\n",
    "y = numpy.linspace(-3,2,50)     # parameter\n",
    "x = 4 - y**2\n",
    "plt.plot(x,y)\n",
    "\n",
    "# intersection points\n",
    "for xi, yi in zip([-5,0],[-3,2]):\n",
    "    label = f'({xi},{yi})'\n",
    "    plt.annotate(label, (xi,yi), textcoords=\"offset points\", xytext=(40,0), ha='right')\n",
    "\n",
    "plt.legend([\"C_1\", \"C_2\"])"
   ],
   "outputs": [],
   "metadata": {}
  },
  {
   "cell_type": "markdown",
   "source": [
    "**(a)** $C = C_1$\n",
    "\n",
    "Vector representation of line starting at $\\bf{r_0}$ and ending at $\\bf{r_1}$ is \n",
    "$$\\mathbf{r} (t) = (1 - t) \\mathbf{r_0} + t \\mathbf{r_1} \\qquad 0 \\leqslant t \\leqslant 1$$\n",
    "\n",
    "Taking $\\mathbf{r_0} = \\langle -5,-3 \\rangle$ and $\\mathbf{r_1} = \\langle 0,2 \\rangle$\n",
    "\n",
    "Then, $dx = 5\\,dt$, $dy = 5\\,dt$\n",
    "\n",
    "$$\\therefore \\; \\int_{C_1} y^2\\,dx + x\\,dy = \\int_0^1(5t - 3)^2(5dt) + (5t - 5)(5dt)$$\n",
    "\n",
    "$$\\quad\\quad = 5 \\int_0^1 (25t^2 - 25t + 4)\\,dt$$\n",
    "\n",
    "$$\\quad\\quad = 5 \\left[\\frac{25t^3}{3} - {25t^2}{2}+4t\\right]_0^1 = -\\frac{5}{6}$$\n",
    "\n",
    "**(b)** $C = C_2$\n",
    "\n",
    "Here $dx = -2y\\,dy$\n",
    "\n",
    "$$\\therefore\\; \\int_{C_2} y^2\\,dx + x\\,dy = \\int_{-3}^2 y^2(-2y)\\,dy + (4-y^2)\\,dy$$\n",
    "\n",
    "$$\\quad\\quad = \\int_{-3}^2 (-2y^3 - y^2 + 4)\\,dy$$\n",
    "\n",
    "$$\\quad\\quad = \\left[ -\\frac{y^4}{2} - \\frac{y^3}{3} + 4y \\right]_{-3}^2 = 40\\frac{5}{6}$$"
   ],
   "metadata": {}
  },
  {
   "cell_type": "markdown",
   "source": [
    "**Question 2**\n",
    "---\n",
    " Find the word done by the force field $\\mathbf{F}(x,y) = x^2\\, \\mathbf{i} - xy\\, \\mathbf{j}$ in moving a particle along the quarter-circle $$\\mathbf{r} (t) = \\mathrm{cos}\\, t\\, \\mathbf{i} + \\mathrm{sin}\\, t\\, \\mathbf{j} \\qquad 0 \\leqslant t \\leqslant \\pi/2$$\n",
    "\n"
   ],
   "metadata": {}
  },
  {
   "cell_type": "markdown",
   "source": [
    "**Solution**\n",
    "---\n",
    "\n",
    "Plotting the force field and path of particle:"
   ],
   "metadata": {}
  },
  {
   "cell_type": "code",
   "execution_count": null,
   "source": [
    "import numpy\n",
    "import matplotlib.pyplot as plt\n",
    "\n",
    "# setting up the graph\n",
    "plt.figure(figsize=(5,5))\n",
    "plt.xlim(-0,1.5)\n",
    "plt.ylim(-0,1.5)\n",
    "\n",
    "plt.grid()\n",
    "plt.xlabel('x')\n",
    "plt.ylabel('y')\n",
    "\n",
    "# path of particle\n",
    "t = numpy.linspace(0,numpy.pi/2,100)\n",
    "x, y = numpy.cos(t), numpy.sin(t)\n",
    "\n",
    "plt.plot(x,y)\n",
    "\n",
    "# Force field\n",
    "x, y = numpy.meshgrid(numpy.linspace(0,1.6,8), numpy.linspace(0,1.6,8)) \n",
    "u, v = x**2, -x*y\n",
    "\n",
    "plt.quiver(x, y, u, v)\n",
    "plt.legend(['Path of particle', 'Force field (F)'])"
   ],
   "outputs": [],
   "metadata": {}
  },
  {
   "cell_type": "markdown",
   "source": [
    "Since $x = \\mathrm{cos}\\,t$ and $y = \\mathrm{sin}\\,t$\n",
    "\n",
    "we have, $\\mathbf{F}(\\mathbf{r}(t)) = \\mathrm{cos}^2 t\\, \\mathbf{i} \\;-\\; \\mathrm{cos}\\,t\\;\\mathrm{sin}\\,t\\,\\mathbf{j}$\n",
    "\n",
    "$\\quad\\quad \\mathbf{r'}(t) = -\\mathrm{sin}\\,t\\,\\mathbf{i} + \\mathrm{cos}\\,t\\,\\mathbf{j}$\n",
    "\n",
    "$\\therefore\\quad$ work done is \n",
    "\n",
    "$$\\int_C \\mathbf{F} \\cdot d\\mathbf{r} = \\int_0^{\\pi/2} \\mathbf{F}(\\mathbf{r}(t)) \\cdot \\mathbf{r'}\\, dt$$\n",
    "\n",
    "$$\\quad\\quad = \\int_0^{\\pi/2} (-2\\,\\mathrm{cos}^2t\\;\\mathrm{sin}\\, t)\\,dt$$\n",
    "\n",
    "$$\\quad\\quad = 2\\, \\frac{{cos}^3 t}{3} \\rvert_0^{\\pi/2} = -\\frac{2}{3}$$"
   ],
   "metadata": {}
  },
  {
   "cell_type": "markdown",
   "source": [
    "**Question 3**\n",
    "---\n",
    "**(a)** If $\\mathbf{F}(x,y) = (3 + 2xy)\\,\\mathbf{i} + (x^2 - 3y^2)\\,\\mathbf{j}$, find a function $\\mathit{f}$ such that $\\mathbf{F} = \\nabla \\mathit{f}$.\n",
    "\n",
    "**(b)** Evaluate the line integral $\\int_C \\mathbf{F} \\cdot d \\mathbf{r}$, where $\\mathit{C}$ is the curve given by $$\\mathbf{r} (t) = e^t\\, \\mathrm{sin}\\, t\\, \\mathbf{i} + e^t\\, \\mathrm{cos}\\, t\\, \\mathbf{j} \\qquad 0 \\leqslant t \\leqslant \\pi$$\n",
    "\n"
   ],
   "metadata": {}
  },
  {
   "cell_type": "markdown",
   "source": [
    "**Solution**\n",
    "---\n",
    "**(a)** Let $P(x,y) = 3 + 2xy$ and $Q(x,y) = x^2 - 3y^2$\n",
    "\n",
    "Then,\n",
    "$$ \\frac{\\partial P}{\\partial y} = 2x\\quad \\mathrm{and} \\quad \\frac{\\partial Q}{\\partial x} = 2x$$\n",
    "\n",
    "$$\\therefore \\quad \\frac{\\partial P}{\\partial y} = \\frac{\\partial Q}{\\partial x}$$\n",
    "\n",
    "Also the domain of $\\mathbf{F}$ is the entire plane ($D = \\mathbb{R}^2$), which is open and simply-connected. Therefore $\\mathbf{F}$ is consevative and so there exists a function $\\mathit{f}$ with $\\nabla \\mathit{f} = \\mathbf{F}$, that is\n",
    "\n",
    "$\\quad \\mathit{f}_x(x,y) = 3 + 2xy\\qquad$...(1)\n",
    "\n",
    "$\\quad \\mathit{f}_y(x,y) = x^2 - 3y^2\\qquad$...(2)\n",
    "\n",
    "Integrating (1) with respect to $x$, we get\n",
    "\n",
    "$\\quad \\mathit{f}(x,y) = 3x + x^2y + g(y)\\qquad$...(3)\n",
    "\n",
    "Differentiating both sides of (3) with respect to $y$:\n",
    "\n",
    "$\\quad \\mathit{f}_y(x,y) = x^2 + g'(y)\\qquad$...(4)\n",
    "\n",
    "Comparing (2) and (4) we get,\n",
    "\n",
    "$\\quad g'(y) = -3y^2$\n",
    "\n",
    "Integrating with respect to $y$:\n",
    "\n",
    "$\\quad g(y) = -y^3 + K\\qquad$ where $K$ is a constant. Putting this in (4)\n",
    "\n",
    "\n",
    "$$\\mathit{f}(x,y) = 3x + x^2y -y^3 + K$$\n",
    "which is the desired function\n",
    "\n",
    "**(b)** The curve $C: \\mathbf{r} (t) = e^t\\, \\mathrm{sin}\\, t\\, \\mathbf{i} + e^t\\, \\mathrm{cos}\\, t\\, \\mathbf{j} \\qquad 0 \\leqslant t \\leqslant \\pi$ is plotted as under"
   ],
   "metadata": {}
  },
  {
   "cell_type": "code",
   "execution_count": null,
   "source": [
    "import numpy\n",
    "import matplotlib.pyplot as plt\n",
    "\n",
    "# setting up the graph\n",
    "plt.figure(figsize=(2,6))\n",
    "plt.ylim(-26,2)\n",
    "plt.xlim(0,15)\n",
    "\n",
    "plt.grid()\n",
    "plt.xlabel('x')\n",
    "plt.ylabel('y')\n",
    "\n",
    "t = numpy.linspace(0,numpy.pi, 100)      # parameter\n",
    "x, y = numpy.sin(t)*numpy.exp(t) , numpy.cos(t)*numpy.exp(t)\n",
    "\n",
    "# end points\n",
    "for xi, yi in zip([0,0], [0, -numpy.exp(numpy.pi)]):\n",
    "    label = '({},{:.2f})'.format(xi, yi)\n",
    "    plt.annotate(label, (xi, yi))\n",
    "\n",
    "plt.plot(x,y)\n",
    "plt.legend(['Curve C'])"
   ],
   "outputs": [],
   "metadata": {}
  },
  {
   "cell_type": "markdown",
   "source": [
    "The initial and terminal points of $C$ are \n",
    "$\\mathbf{r}(0) = (0,1)$ and $\\mathbf{r}(\\pi) = (0,-e^\\pi)$.\n",
    "In the expression of $\\mathit{f}(x,y)$ in part (a), let $K = 0$ $\\because\\;$ any value of constant $K$ will do. \n",
    "\n",
    "Then from **The fundamental theorem of line integrals**, we have\n",
    "\n",
    "$$\\int_C \\mathbf{F} \\cdot d\\mathbf{r} = \\mathit{f}(0, -e^\\pi) - \\mathit{f}(0,1)$$\n",
    "\n",
    "$$\\quad\\quad = e^{3\\pi} - (-1) = e^{3\\pi} + 1$$"
   ],
   "metadata": {}
  },
  {
   "cell_type": "markdown",
   "source": [
    "**Question 4** \n",
    "---\n",
    "Use Stokes' Theorem to compute the integral $$\\iint_S \\mathrm{curl}\\, \\mathbf{F}\\cdot d\\mathbf{S}$$ \n",
    "where $\\mathbf{F}(x,y,z) = xz\\, \\mathbf{i} + yz\\, \\mathbf{j} + xy\\, \\mathbf{k}$ and $\\mathit{S}$ is the part of the sphere $x^2 + y^2 + z^2 = 4$ that lies inside the cylinder $x^2 + y^2 = 1$ and above the $xy$-plane."
   ],
   "metadata": {}
  },
  {
   "cell_type": "markdown",
   "source": [
    "**Solution**\n",
    "---\n",
    "The sphere and cylinder are shown in the figure below:"
   ],
   "metadata": {}
  },
  {
   "cell_type": "code",
   "execution_count": 25,
   "source": [
    "import numpy\n",
    "import matplotlib.pyplot as plt\n",
    "\n",
    "ax = plt.figure().add_subplot(projection='3d')\n",
    "\n",
    "# cylinder\n",
    "theta = numpy.linspace(0,2*numpy.pi, 100)\n",
    "phi = numpy.linspace(0,1,100)\n",
    "x, y = phi * numpy.cos(theta), phi * numpy.sin(theta)\n",
    "z = phi\n",
    "\n",
    "plt.plot(x,y,z)"
   ],
   "outputs": [
    {
     "output_type": "execute_result",
     "data": {
      "text/plain": [
       "[<mpl_toolkits.mplot3d.art3d.Line3D at 0x7f827859f790>]"
      ]
     },
     "metadata": {},
     "execution_count": 25
    },
    {
     "output_type": "display_data",
     "data": {
      "text/plain": [
       "<Figure size 432x288 with 1 Axes>"
      ],
      "image/png": "[encoded data removed]"
     },
     "metadata": {
      "needs_background": "light"
     }
    }
   ],
   "metadata": {}
  },
  {
   "cell_type": "markdown",
   "source": [
    "To find the boundary curve $C$, solving the equations $x^2 + y^2 + x^2 = 4$ and $x^2 + y^2 = 1$. \n",
    "\n",
    "Subtracting, we get $z^2 = 3$\n",
    "\n",
    "$\\quad\\quad z = \\sqrt{3}$ (since $z \\gt 0$). Thus $C$ is the circle given by\n",
    "\n",
    "$\\quad\\quad \\mathbf{r}(t) = \\mathrm{cos}\\,t\\,\\mathbf{i} + \\mathrm{sin}\\,t\\,\\mathbf{k} + \\sqrt{3}\\,\\mathbf{k} \\quad\\quad 0 \\leqslant t \\leqslant 2\\pi$ \n",
    "\n",
    "so $\\quad \\mathbf{r'}(t) = -\\mathrm{sin}\\,t\\,\\mathbf{i} + \\mathrm{cos}\\,t\\,\\mathbf{j}$\n",
    "\n",
    "Also, we have\n",
    "\n",
    "$\\quad\\quad \\mathbf{F}(\\mathbf{r}(t)) = \\sqrt{3}\\mathrm{cos}\\,t\\,\\mathbf{i} + \\sqrt{3}\\mathrm{sin}\\,t\\,\\mathbf{j} + \\mathrm{cos}\\,t\\,\\mathrm{sin}\\,t\\,\\mathbf{k}$\n",
    "\n",
    "$\\therefore$ by Stokes' Theorem, \n",
    "\n",
    "$$\\iint_S\\mathrm{curl}\\mathbf{F}\\cdot d\\mathbf{S} = \\int_C \\mathbf{F}\\cdot d\\mathbf{r} = \\int_0^{2\\pi} \\mathbf{F}(\\mathbf{r}(t))\\cdot \\mathbf{r'}(t) dt$$\n",
    "\n",
    "$$\\quad\\quad\\quad\\quad = \\int_0^{2\\pi} \\left(-\\sqrt{3}\\, \\mathrm{cos}\\,t\\,\\mathrm{sin}\\,t + \\sqrt{3}\\,sin\\,t\\,cos\\,t\\right)\\,dt = \\;0$$"
   ],
   "metadata": {}
  },
  {
   "cell_type": "markdown",
   "source": [
    "**Question 5**\n",
    "---\n",
    "If $\\mathbf{F}(x,y) = (-y\\, \\mathbf{i} + x\\, \\mathbf{j}) / (x^2 + y^2)$, show that $$\\int_C \\mathbf{F} \\cdot d\\mathbf{r} = 2 \\pi$$ \n",
    "for every positively oriented simple closed path that encloses the origin."
   ],
   "metadata": {}
  },
  {
   "cell_type": "markdown",
   "source": [
    "**Solution**\n",
    "---\n",
    "Consider a counterclockwise-oriented circle $C'$ with center the origin and radius $a$, where $a$ is small enough that $C'$ lies inside $C$. See the figure below:\n",
    "\n",
    "<img src=\"img/p1q5.jpg\">\n",
    "\n",
    "Let $D$ be the region bounded by $C$ and $C'$. Then its positively oriented boundary is $C \\cup (-C')$. So by Green's theorem\n",
    "\n",
    "$$\\int_C P\\,dx + Q\\,dy + \\int_{-C'} P\\,dx + Q\\,dy = \\iint_D \\left(\\frac{\\partial Q}{\\partial x} - \\frac{\\partial P}{\\partial y}\\right)\\, dA$$\n",
    "\n",
    "$$\\quad\\quad = \\iint_D \\left[ \\frac{y^2 - x^2}{(x^2 + y^2)^2} - \\frac{y^2 - x^2}{(x^2 + y^2)^2} \\right]\\,dA = 0$$\n",
    "\n",
    "$$\\therefore \\quad\\quad \\int_C P\\,dx + Q\\, dy = \\int_{C'} P\\, dx + Q\\, dy$$\n",
    "\n",
    "that is, $$\\int_C \\mathbf{F} \\cdot\\, d\\mathbf{r} = \\int_{C'} \\mathbf{F}\\, \\cdot d\\mathbf{r}$$\n",
    "\n",
    "Using parametrization given by $\\quad \\mathbf{r}(t) = a\\,\\mathrm{cos}\\,t\\,\\mathbf{i} + a\\,\\mathrm{sin}\\,t\\,\\mathbf{j},\\quad 0 \\leqslant t \\leqslant 2\\pi$ in the above equation\n",
    "\n",
    "$$\\int_C \\mathbf{F} \\cdot d\\mathbf{r} = \\int_C \\mathbf{F} \\cdot d\\mathbf{r} = \\int_0^{2\\pi} \\mathbf{F}(\\mathbf{r}(t)) \\cdot \\mathbf{r'}(t)\\,dt$$\n",
    "\n",
    "$$\\quad\\quad = \\int_0^{2\\pi} \\frac{(-a\\, \\mathrm{sin}t)\\,(-a\\,\\mathrm{sin}\\,t) + (a\\,\\mathrm{cos}\\,t)\\,(a\\,\\mathrm{cos}\\,t)}{a^2\\,\\mathrm{cos}^2\\,t + a^2\\,\\mathrm{sin}^2\\,t}\\,dt$$\n",
    "\n",
    "$$\\quad\\quad = \\int_0^{2\\pi} dt = 2\\pi$$"
   ],
   "metadata": {}
  },
  {
   "cell_type": "markdown",
   "source": [
    "**Early Trancedentals**\n",
    "\n",
    "Question|Page\n",
    "---|---\n",
    "1|1123\n",
    "2|1127\n",
    "3|1135\n",
    "4|1181\n",
    "5|1112"
   ],
   "metadata": {}
  },
  {
   "cell_type": "markdown",
   "source": [
    "## Part II: Laplace Transformation\n",
    "---"
   ],
   "metadata": {}
  },
  {
   "cell_type": "markdown",
   "source": [
    "**Question 1**\n",
    "---\n",
    "Find the Laplace transform of the following functions\n",
    "\n",
    "**(a)** $\\mathit{f}(t) = \\left|t-1\\right|+\\left|t+1\\right|, t \\geqslant 0$\n",
    "\n",
    "**(b)** $\\mathit{f}(t) = \\lfloor\\,t\\,\\rfloor$, where $\\lfloor \\; \\rfloor$ stands for greatest integer function."
   ],
   "metadata": {}
  },
  {
   "cell_type": "markdown",
   "source": [
    "**Question 2**\n",
    "---\n",
    " Find the inverse transformation of\n",
    "$$\\frac{5s + 3}{(s - 1)(s^2 + 2s + 5)}$$"
   ],
   "metadata": {}
  },
  {
   "cell_type": "markdown",
   "source": [
    "**Question 3**\n",
    "---\n",
    "Solve $$x \\frac{d^2y}{dx^2} + \\frac{dy}{dx} + xy = 0,\\qquad y(0) = 2,\\; y'(0) = 0$$"
   ],
   "metadata": {}
  },
  {
   "cell_type": "markdown",
   "source": [
    "**Question 4**\n",
    "---\n",
    "An alternating e.m.f. $E\\;\\mathrm{sin}\\,\\omega t$ is applied to an inductance $L$ and a capacitance $C$ in series. Show by transform method, that the current in the circuit is \n",
    "$$\\frac{E\\,\\omega}{(p^2-\\omega^2)L}(\\mathrm{cos}\\,\\omega t - \\mathrm{cos}\\,pt), \\qquad \\mathrm{where}\\; p^2 = \\frac{1}{LC}$$"
   ],
   "metadata": {}
  },
  {
   "cell_type": "markdown",
   "source": [
    "**Question 5**\n",
    "---\n",
    "The coordinates $(x,y)$ of a particle moving along a plane curve at any time $t$, are given by the equations\n",
    "$$\\frac{dy}{dx} + 2x = \\mathrm{sin}\\, 2t$$\n",
    "$$\\frac{dx}{dy} - 2y = \\mathrm{cos}\\, 2t$$\n",
    "where $t \\gt 0$. If at $t = 0$, $x = 1$ and $y = 0$, show by transforms, that the particle moves along the curve $4x^2 + 4xy + 5xy^2 = 4$."
   ],
   "metadata": {}
  },
  {
   "cell_type": "markdown",
   "source": [
    "**BS Grewal**\n",
    "\n",
    "Question|Page\n",
    "---|---\n",
    "1|731\n",
    "2|742\n",
    "3|753\n",
    "4|753\n",
    "5|755"
   ],
   "metadata": {}
  }
 ]
}