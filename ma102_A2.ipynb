{
 "metadata": {
  "language_info": {
   "codemirror_mode": {
    "name": "ipython",
    "version": 3
   },
   "file_extension": ".py",
   "mimetype": "text/x-python",
   "name": "python",
   "nbconvert_exporter": "python",
   "pygments_lexer": "ipython3",
   "version": "3.9.5"
  },
  "orig_nbformat": 4,
  "kernelspec": {
   "name": "python3",
   "display_name": "Python 3.9.5 64-bit ('py39': venv)"
  },
  "interpreter": {
   "hash": "d5079000de75f116e87a902a93b652d138e47a117901ddd21733cca5ae6d22b9"
  }
 },
 "nbformat": 4,
 "nbformat_minor": 2,
 "cells": [
  {
   "cell_type": "markdown",
   "source": [
    "# Engineering Mathematics-II (MA102)\n",
    "### Assignment on Vector Calculus and Laplace Transformation\n",
    "---\n",
    "**Submitted to:**\n",
    " \n",
    "Dr. A Vanav Kumar \n",
    "<p>&nbsp;</p>\n",
    "\n",
    "**Submitted by:**\n",
    "\n",
    "**Name:** Chandrashekhar Tripathi\n",
    "\n",
    "**Roll no.:** ECE/20/28\n",
    "\n",
    "**Branch:** Electronics and Communications Engineering\n",
    "\n",
    "<html>\n",
    "    <img src=\"\n",
    "</html>\n"
   ],
   "metadata": {}
  },
  {
   "cell_type": "markdown",
   "source": [
    "## Part I: Vector Calculus\n",
    "---"
   ],
   "metadata": {}
  },
  {
   "cell_type": "markdown",
   "source": [
    "**Q1.** Evaluate \n",
    "$$\\int_C y^2dx + xdy$$\n",
    "$\\qquad$ where \n",
    "\n",
    "$\\qquad$(a) $\\mathit{C=C_1}$ is the line segment from (-5,-3) to (0,2) and \n",
    "\n",
    "$\\qquad$(b) $\\mathit{C=C_2}$ is the arc of the parabola $x = 4 - y^2$ from (-5,-3) to (0,2)."
   ],
   "metadata": {}
  },
  {
   "cell_type": "markdown",
   "source": [
    "**Solution**\n",
    "\n",
    "A parametric representation for the line segment (curve $C_1$) is\n",
    "\n",
    "$x = 5t - 5 \\quad y = 5t - 3 \\qquad 0 \\leqslant t \\leqslant 1$\n",
    "\n",
    "Since the parabola is given as a function of $y$, let's take $y$ as the parameter and write $C_2$ as\n",
    "\n",
    "$x = 4 - y^2 \\quad y = y \\qquad -3 \\leqslant y \\leqslant 2$\n",
    "\n",
    "See figure below:"
   ],
   "metadata": {}
  },
  {
   "cell_type": "code",
   "execution_count": 60,
   "source": [
    "import numpy\n",
    "import matplotlib.pyplot as plt\n",
    "\n",
    "# axes labels\n",
    "plt.xlabel('x')\n",
    "plt.ylabel('y')\n",
    "\n",
    "# curve C_1\n",
    "t = numpy.linspace(0,1,2)      # parameter\n",
    "x = 5*t - 5\n",
    "y = 5*t - 3\n",
    "plt.plot(x,y, marker=\"o\")\n",
    "\n",
    "# curve C_2\n",
    "y = numpy.linspace(-3,2,50)     # parameter\n",
    "x = 4 - y**2\n",
    "plt.plot(x,y)\n",
    "plt.legend([\"C_1\", \"C_2\"])\n",
    "\n",
    "# intersection points\n",
    "for xi, yi in zip([-5,0],[-3,2]):\n",
    "    label = f'({xi},{yi})'\n",
    "    plt.annotate(label, (xi,yi), textcoords=\"offset points\", xytext=(40,0), ha='right')"
   ],
   "outputs": [
    {
     "output_type": "display_data",
     "data": {
      "text/plain": [
       "<Figure size 432x288 with 1 Axes>"
      ],
      "image/png": "[encoded data removed]"
     },
     "metadata": {
      "needs_background": "light"
     }
    }
   ],
   "metadata": {}
  },
  {
   "cell_type": "markdown",
   "source": [
    "**(a)** $C = C_1$\n",
    "\n"
   ],
   "metadata": {}
  },
  {
   "cell_type": "markdown",
   "source": [
    "**Q2.** Find the word done by the force field $\\mathbf{F}(x,y) = x^2\\, \\mathbf{i} - xy\\, \\mathbf{j}$ in moving a particle along the quarter-circle $$\\mathbf{r} (t) = \\mathrm{cos}\\, t\\, \\mathbf{i} + \\mathrm{sin}\\, t\\, \\mathbf{j} \\qquad 0 \\leqslant t \\leqslant \\pi/2$$\n",
    "\n"
   ],
   "metadata": {}
  },
  {
   "cell_type": "markdown",
   "source": [
    "**Q3.** $\\;\\,$(a) If $\\mathbf{F}(x,y) = (3 + 2xy)\\mathbf{i} + (x^2 - 3y^2)\\mathbf{j}$, find a function $\\mathit{f}$ such that $\\mathbf{F} = \\nabla \\mathit{f}$.\n",
    "\n",
    "$\\qquad$ (b) Evaluate the line integral $\\int_C \\mathbf{F} \\cdot d \\mathbf{r}$, where $\\mathit{C}$ is the curve given by $$\\mathbf{r} (t) = e^t\\, \\mathrm{sin}\\, t\\, \\mathbf{i} + e^t\\, \\mathrm{cos}\\, t\\, \\mathbf{j} \\qquad 0 \\leqslant t \\leqslant \\pi$$\n",
    "\n"
   ],
   "metadata": {}
  },
  {
   "cell_type": "markdown",
   "source": [
    "**Q4.** Use Stokes' Theorem to compute the integral $$\\iint_S \\mathrm{curl}\\, \\mathbf{F}\\cdot d\\mathbf{S}$$ \n",
    "$\\qquad$ where $\\mathbf{F}(x,y,z) = xz\\, \\mathbf{i} + yz\\, \\mathbf{j} + xy\\, \\mathbf{k}$ and $\\mathit{S}$ is the part of the sphere $x^2 + y^2 + z^2 = 4$ that lies inside the cylinder $x^2 + y^2 = 1$ and above the $xy$-plane."
   ],
   "metadata": {}
  },
  {
   "cell_type": "markdown",
   "source": [
    "**Q5.** If $\\mathbf{F}(x,y) = (-y\\, \\mathbf{i} + x\\, \\mathbf{j}) / (x^2 + y^2)$, show that $$\\int_C \\mathbf{F} \\cdot d\\mathbf{r} = 2 \\pi$$ \n",
    "$\\qquad$ for every positively oriented simple closed path that encloses the origin."
   ],
   "metadata": {}
  },
  {
   "cell_type": "markdown",
   "source": [
    "**Early Trancedentals**\n",
    "\n",
    "Question|Page\n",
    "---|---\n",
    "1|1123\n",
    "2|1127\n",
    "3|1135\n",
    "4|1149\n",
    "5|1112"
   ],
   "metadata": {}
  },
  {
   "cell_type": "markdown",
   "source": [
    "## Part II: Laplace Transformation\n",
    "---"
   ],
   "metadata": {}
  },
  {
   "cell_type": "markdown",
   "source": [
    "**Q1.** Find the Laplace transform of the following functions\n",
    "\n",
    "$\\qquad$ (a) $\\mathit{f}(t) = \\left|t-1\\right|+\\left|t+1\\right|, t \\geqslant 0$\n",
    "\n",
    "$\\qquad$ (b) $\\mathit{f}(t) = \\lfloor\\,t\\,\\rfloor$, where $\\lfloor \\; \\rfloor$ stands for greatest integer function."
   ],
   "metadata": {}
  },
  {
   "cell_type": "markdown",
   "source": [
    "**Q2.** Find the inverse transformation of\n",
    "$$\\frac{5s + 3}{(s - 1)(s^2 + 2s + 5)}$$"
   ],
   "metadata": {}
  },
  {
   "cell_type": "markdown",
   "source": [
    "**Q3.** Solve $$x \\frac{d^2y}{dx^2} + \\frac{dy}{dx} + xy = 0,\\qquad y(0) = 2,\\; y'(0) = 0$$"
   ],
   "metadata": {}
  },
  {
   "cell_type": "markdown",
   "source": [
    "**Q4.** An alternating e.m.f. $E\\;\\mathrm{sin}\\,\\omega t$ is applied to an inductance $L$ and a capacitance $C$ in series. Show by transform method, that the current in the circuit is \n",
    "$$\\frac{E\\,\\omega}{(p^2-\\omega^2)L}(\\mathrm{cos}\\,\\omega t - \\mathrm{cos}\\,pt), \\qquad \\mathrm{where}\\; p^2 = \\frac{1}{LC}$$"
   ],
   "metadata": {}
  },
  {
   "cell_type": "markdown",
   "source": [
    "**Q5.** The coordinates $(x,y)$ of a particle moving along a plane curve at any time $t$, are given by the equations\n",
    "$$\\frac{dy}{dx} + 2x = \\mathrm{sin}\\, 2t$$\n",
    "$$\\frac{dx}{dy} - 2y = \\mathrm{cos}\\, 2t$$\n",
    "where $t \\gt 0$. If at $t = 0$, $x = 1$ and $y = 0$, show by transforms, that the particle moves along the curve $4x^2 + 4xy + 5xy^2 = 4$."
   ],
   "metadata": {}
  },
  {
   "cell_type": "markdown",
   "source": [
    "**BS Grewal**\n",
    "\n",
    "Question|Page\n",
    "---|---\n",
    "1|731\n",
    "2|742\n",
    "3|753\n",
    "4|753\n",
    "5|755"
   ],
   "metadata": {}
  }
 ]
}