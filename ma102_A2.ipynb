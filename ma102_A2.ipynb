{
 "metadata": {
  "language_info": {
   "codemirror_mode": {
    "name": "ipython",
    "version": 3
   },
   "file_extension": ".py",
   "mimetype": "text/x-python",
   "name": "python",
   "nbconvert_exporter": "python",
   "pygments_lexer": "ipython3",
   "version": "3.9.5"
  },
  "orig_nbformat": 4,
  "kernelspec": {
   "name": "python3",
   "display_name": "Python 3.9.5 64-bit ('py39': venv)"
  },
  "interpreter": {
   "hash": "d5079000de75f116e87a902a93b652d138e47a117901ddd21733cca5ae6d22b9"
  }
 },
 "nbformat": 4,
 "nbformat_minor": 2,
 "cells": [
  {
   "source": [
    "# Engineering Mathematics-II (MA102)\n",
    "### Assignment on Vector Calculus and Laplace Transformation\n",
    "\n",
    "#### Submitted to: Dr. A Vanav Kumar \n",
    "\n",
    "\n",
    "**Submitted by:**\n",
    "\n",
    "**Name:** Chandrashekhar Tripathi\n",
    "\n",
    "**Roll no.:** ECE/20/28\n",
    "\n",
    "**Branch:** Electronics and Communications Engineering\n",
    "\n",
    "<html>\n",
    "    <img src=\"\n",
    "</html>\n"
   ],
   "cell_type": "markdown",
   "metadata": {}
  },
  {
   "source": [
    "## Part I: Vector Calculus"
   ],
   "cell_type": "markdown",
   "metadata": {}
  },
  {
   "source": [
    "**Q1.** Evaluate $\\int_C y^2dx + xdy$, where **(a)** $\\mathit{C=C_1}$ is the line segment from (-5,-3) to (0.2) and **(b)** $\\mathit{C=C_2}$ is the arc of the parabola $x = 4 - y^2$ from (-5,-3) to (0,2). (See figure). (P-1123)\n",
    "\n",
    "<html><img src=\"img/p1q1.jpg\"></html>"
   ],
   "cell_type": "markdown",
   "metadata": {}
  },
  {
   "source": [],
   "cell_type": "markdown",
   "metadata": {}
  }
 ]
}