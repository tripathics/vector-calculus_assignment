{
 "metadata": {
  "language_info": {
   "codemirror_mode": {
    "name": "ipython",
    "version": 3
   },
   "file_extension": ".py",
   "mimetype": "text/x-python",
   "name": "python",
   "nbconvert_exporter": "python",
   "pygments_lexer": "ipython3",
   "version": "3.9.5"
  },
  "orig_nbformat": 4,
  "kernelspec": {
   "name": "python3",
   "display_name": "Python 3.9.5 64-bit ('py39': venv)"
  },
  "interpreter": {
   "hash": "d5079000de75f116e87a902a93b652d138e47a117901ddd21733cca5ae6d22b9"
  }
 },
 "nbformat": 4,
 "nbformat_minor": 2,
 "cells": [
  {
   "source": [
    "# Engineering Mathematics-II (MA102)\n",
    "### Assignment on Vector Calculus and Laplace Transformation\n",
    "---\n",
    "#### Submitted to: \n",
    "Dr. A Vanav Kumar \n",
    "<p>&nbsp;</p>\n",
    "\n",
    "**Submitted by:**\n",
    "\n",
    "**Name:** Chandrashekhar Tripathi\n",
    "\n",
    "**Roll no.:** ECE/20/28\n",
    "\n",
    "**Branch:** Electronics and Communications Engineering\n",
    "\n",
    "<html>\n",
    "    <img src=\"\n",
    "</html>\n"
   ],
   "cell_type": "markdown",
   "metadata": {}
  },
  {
   "source": [
    "## Part I: Vector Calculus"
   ],
   "cell_type": "markdown",
   "metadata": {}
  },
  {
   "source": [
    "**Q1.**Evaluate $\\int_C y^2dx + xdy$, where (a) $\\mathit{C=C_1}$ is the line segment from (-5,-3) to (0.2) and (b) $\\mathit{C=C_2}$ is the arc of the parabola $x = 4 - y^2$ from (-5,-3) to (0,2). (See figure). \n",
    "\n",
    "<img src=\"img/p1q1.jpg\"/>"
   ],
   "cell_type": "markdown",
   "metadata": {}
  },
  {
   "source": [
    "**Q2.**Find the word done by the force field $\\mathbf{F}(x,y) = x^2\\, \\mathbf{i} - xy\\, \\mathbf{j}$ in moving a particle along the quarter-circle $$\\mathbf{r} (t) = \\mathrm{cos}\\, t\\, \\mathbf{i} + \\mathrm{sin}\\, t\\, \\mathbf{j} \\qquad 0 \\leqslant t \\leqslant \\pi/2$$\n",
    "\n"
   ],
   "cell_type": "markdown",
   "metadata": {}
  },
  {
   "source": [
    "**Q3.**(a) If $\\mathbf{F}(x,y) = (3 + 2xy)\\mathbf{i} + (x^2 - 3y^2)\\mathbf{j}$, find a function $\\mathit{f}$ such that $\\mathbf{F} = \\nabla \\mathit{f}$.\n",
    "\n",
    "$\\quad$ (b) Evaluate the line integral $\\int_C \\mathbf{F} \\cdot d \\mathbf{r}$, where $\\mathit{C}$ is the curve given by $$\\mathbf{r} (t) = e^t\\, \\mathrm{sin}\\, t\\, \\mathbf{i} + e^t\\, \\mathrm{cos}\\, t\\, \\mathbf{j} \\qquad 0 \\leqslant t \\leqslant \\pi$$\n",
    "\n"
   ],
   "cell_type": "markdown",
   "metadata": {}
  },
  {
   "source": [
    "**Q4.** Use Stokes' Theorem to compute the integral $\\iint_S \\mathrm{curl}\\, \\mathbf{F}\\cdot d\\mathbf{S}$, where $\\mathbf{F}(x,y,z) = xz\\, \\mathbf{i} + yz\\, \\mathbf{j} + xy\\, \\mathbf{k}$ and $\\mathit{S}$ is the part of the sphere $x^2 + y^2 + z^2 = 4$ that lies inside the cylinder $x^2 + y^2 = 1$ and above the $xy$-plane."
   ],
   "cell_type": "markdown",
   "metadata": {}
  },
  {
   "source": [
    "**Q5.**If $\\mathbf{F}(x,y) = (-y\\, \\mathbf{i} + x\\, \\mathbf{j}) / (x^2 + y^2)$, show that $\\int_C \\mathbf{F} \\cdot d\\mathbf{r} = 2 \\pi$ for every positively oriented simple closed path that encloses the origin."
   ],
   "cell_type": "markdown",
   "metadata": {}
  },
  {
   "source": [
    "Question|Page\n",
    "---|---\n",
    "1|1123\n",
    "2|1127\n",
    "3|1135\n",
    "4|1149\n",
    "5|1112"
   ],
   "cell_type": "markdown",
   "metadata": {}
  }
 ]
}